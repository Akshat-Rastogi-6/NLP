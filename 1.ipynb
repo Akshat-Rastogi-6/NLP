{
 "cells": [
  {
   "cell_type": "code",
   "execution_count": 2,
   "metadata": {},
   "outputs": [],
   "source": [
    "import nltk"
   ]
  },
  {
   "cell_type": "code",
   "execution_count": 4,
   "metadata": {},
   "outputs": [
    {
     "name": "stdout",
     "output_type": "stream",
     "text": [
      "showing info https://raw.githubusercontent.com/nltk/nltk_data/gh-pages/index.xml\n"
     ]
    },
    {
     "data": {
      "text/plain": [
       "True"
      ]
     },
     "execution_count": 4,
     "metadata": {},
     "output_type": "execute_result"
    }
   ],
   "source": [
    "nltk.download()"
   ]
  },
  {
   "cell_type": "code",
   "execution_count": 5,
   "metadata": {},
   "outputs": [
    {
     "name": "stdout",
     "output_type": "stream",
     "text": [
      "*** Introductory Examples for the NLTK Book ***\n",
      "Loading text1, ..., text9 and sent1, ..., sent9\n",
      "Type the name of the text or sentence to view it.\n",
      "Type: 'texts()' or 'sents()' to list the materials.\n",
      "text1: Moby Dick by Herman Melville 1851\n",
      "text2: Sense and Sensibility by Jane Austen 1811\n",
      "text3: The Book of Genesis\n",
      "text4: Inaugural Address Corpus\n",
      "text5: Chat Corpus\n",
      "text6: Monty Python and the Holy Grail\n",
      "text7: Wall Street Journal\n",
      "text8: Personals Corpus\n",
      "text9: The Man Who Was Thursday by G . K . Chesterton 1908\n"
     ]
    }
   ],
   "source": [
    "from nltk.book import *"
   ]
  },
  {
   "cell_type": "code",
   "execution_count": 6,
   "metadata": {},
   "outputs": [
    {
     "data": {
      "text/plain": [
       "<Text: Moby Dick by Herman Melville 1851>"
      ]
     },
     "execution_count": 6,
     "metadata": {},
     "output_type": "execute_result"
    }
   ],
   "source": [
    "text1"
   ]
  },
  {
   "cell_type": "code",
   "execution_count": 7,
   "metadata": {},
   "outputs": [
    {
     "data": {
      "text/plain": [
       "<Text: Sense and Sensibility by Jane Austen 1811>"
      ]
     },
     "execution_count": 7,
     "metadata": {},
     "output_type": "execute_result"
    }
   ],
   "source": [
    "text2"
   ]
  },
  {
   "cell_type": "code",
   "execution_count": 9,
   "metadata": {},
   "outputs": [
    {
     "name": "stdout",
     "output_type": "stream",
     "text": [
      "Displaying 11 of 11 matches:\n",
      ". \" Now , Palmer , you shall see a monstrous pretty girl .\" He immediately went\n",
      "your sister is to marry him . I am monstrous glad of it , for then I shall have\n",
      "ou may tell your sister . She is a monstrous lucky girl to get him , upon my ho\n",
      "k how you will like them . Lucy is monstrous pretty , and so good humoured and \n",
      " Jennings , \" I am sure I shall be monstrous glad of Miss Marianne ' s company \n",
      " usual noisy cheerfulness , \" I am monstrous glad to see you -- sorry I could n\n",
      "t however , as it turns out , I am monstrous glad there was never any thing in \n",
      "so scornfully ! for they say he is monstrous fond of her , as well he may . I s\n",
      "possible that she should .\" \" I am monstrous glad of it . Good gracious ! I hav\n",
      "thing of the kind . So then he was monstrous happy , and talked on some time ab\n",
      "e very genteel people . He makes a monstrous deal of money , and they keep thei\n"
     ]
    }
   ],
   "source": [
    "text2.concordance(\"monstrous\")"
   ]
  },
  {
   "cell_type": "code",
   "execution_count": 19,
   "metadata": {},
   "outputs": [
    {
     "name": "stdout",
     "output_type": "stream",
     "text": [
      "Displaying 25 of 92 matches:\n",
      "s in the corner - . JOIN phone U92 ? hello U84 . ACTION sits with U92 . hmph . \n",
      "U68 . does that mean I want you ? U6 hello room lol U83 and this .. has been th\n",
      ", i dont do shit , im the supervisor Hello U165 . hey U165 how 's u ? . ACTION \n",
      " pissed at you i 'm sure ... lol :-) hello ... oopps I meant martini's lmao U17\n",
      " wo n't psh anymore buttons .... lol hello everyone yes .... hey U29 oh you mea\n",
      " ! JOIN hey U31 ... welcome cool U31 hello U9 :) hey U31 U11 *hugs* are you sex\n",
      "ore ... hi U36 I 'm an over achiever hello whjat nationality are you U35 ? hell\n",
      "ello whjat nationality are you U35 ? hello U36 who 's horny ? Is U17 writing a \n",
      "n't play a dumbass be gente .... lol hello . ACTION hi . hi all LOL my pic woul\n",
      " soul . :blush: hi U12 lol U28 U42 : Hello there . i despie no one i like to sa\n",
      "T No luck hi U17 is the sky purple ? hello U17 Hi , U44 hey U42 it black here b\n",
      "u need a sugar subsitute JOIN wb U27 hello all this comp is freaing me out lol \n",
      "11 U33 JOIN hi U26 hi U34 hi U16 U34 hello U34 hi U9 true ... lol i just did Hi\n",
      "N hi U43 hi U19 and ty hi U30 hi U34 hello all hi U44 nebraska is where its at \n",
      "uskers hi U44 lol U9 and JOIN hi U35 hello U44 corn hi U45 and well i off now s\n",
      "he roof the roof the roof is on fire Hello U44 .. :) and U3 ! :) hi U54 congrat\n",
      "oh wait ........ thats a Whistlin ;) Hello U9 thank god you were singing ! was \n",
      "wamp music ... hey U55 , good to c u Hello U11 lol U3 be nice U3 lol Hey there \n",
      "29 U13 .... im down to time now PART Hello U24 , welcome to #talkcity_adults ! \n",
      "the \" pussy pink \" JOIN lol lmao U23 hello all pussy pink Really ? Wow . . I to\n",
      "om hon can i get an amen for myspace Hello lovelies a alo U36 . ACTION peeks in\n",
      "eesh were attracted or ARE attracted Hello ca n't even get kicked . ACTION is h\n",
      " me to =) lol U35 tell it like it is hello reallly brrrrrrr LOL U35 wanna bet h\n",
      "!. hi Oh my U15 . . LoL too late U15 hello U53 agaibn ? . ACTION listenin to Ev\n",
      "sst U16 open your eyes and you might hello U20 PART alzheimers ? U34 ... how is\n"
     ]
    }
   ],
   "source": [
    "text5.concordance(\"hello\")"
   ]
  },
  {
   "cell_type": "code",
   "execution_count": 20,
   "metadata": {},
   "outputs": [
    {
     "name": "stdout",
     "output_type": "stream",
     "text": [
      "true contemptible christian abundant few part mean careful puzzled\n",
      "mystifying passing curious loving wise doleful gamesome singular\n",
      "delightfully perilous fearless\n"
     ]
    }
   ],
   "source": [
    "text1.similar(\"monstrous\")"
   ]
  },
  {
   "cell_type": "code",
   "execution_count": 21,
   "metadata": {},
   "outputs": [
    {
     "name": "stdout",
     "output_type": "stream",
     "text": [
      "very so exceedingly heartily a as good great extremely remarkably\n",
      "sweet vast amazingly\n"
     ]
    }
   ],
   "source": [
    "text2.similar(\"monstrous\")"
   ]
  },
  {
   "cell_type": "code",
   "execution_count": null,
   "metadata": {},
   "outputs": [],
   "source": []
  }
 ],
 "metadata": {
  "kernelspec": {
   "display_name": "Python 3",
   "language": "python",
   "name": "python3"
  },
  "language_info": {
   "codemirror_mode": {
    "name": "ipython",
    "version": 3
   },
   "file_extension": ".py",
   "mimetype": "text/x-python",
   "name": "python",
   "nbconvert_exporter": "python",
   "pygments_lexer": "ipython3",
   "version": "3.10.11"
  }
 },
 "nbformat": 4,
 "nbformat_minor": 2
}
